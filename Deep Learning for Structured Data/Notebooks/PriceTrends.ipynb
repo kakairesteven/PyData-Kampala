{
 "cells": [
  {
   "cell_type": "markdown",
   "id": "16ca8735-d50b-41ec-8b92-330a55eb344a",
   "metadata": {},
   "source": [
    "<h1>Coffee Trends</h1>"
   ]
  },
  {
   "cell_type": "code",
   "execution_count": 107,
   "id": "1a199e99-7451-4cf0-90f7-f6df35e2ba4a",
   "metadata": {},
   "outputs": [],
   "source": [
    "import pandas as pd\n",
    "from ydata_profiling import ProfileReport\n",
    "from datetime import datetime"
   ]
  },
  {
   "cell_type": "code",
   "execution_count": 108,
   "id": "11a540f0-7227-44b4-a77e-1c07c66ee965",
   "metadata": {},
   "outputs": [],
   "source": [
    "coffeePriceTrends = pd.read_excel(\"../Datasets/Price_Trend_1992_93_2015_USD.xls\")"
   ]
  },
  {
   "cell_type": "code",
   "execution_count": 109,
   "id": "33d10448-4bee-4488-86fd-4b5d42320dda",
   "metadata": {},
   "outputs": [],
   "source": [
    "coffeePriceTrends = coffeePriceTrends.drop(['Unnamed: 0', 'Unnamed: 9'],\n",
    "                      axis=1,\n",
    "                      )"
   ]
  },
  {
   "cell_type": "code",
   "execution_count": 110,
   "id": "8f7c6d65-4364-4c98-9c82-3f352107a360",
   "metadata": {},
   "outputs": [
    {
     "data": {
      "text/html": [
       "<div>\n",
       "<style scoped>\n",
       "    .dataframe tbody tr th:only-of-type {\n",
       "        vertical-align: middle;\n",
       "    }\n",
       "\n",
       "    .dataframe tbody tr th {\n",
       "        vertical-align: top;\n",
       "    }\n",
       "\n",
       "    .dataframe thead th {\n",
       "        text-align: right;\n",
       "    }\n",
       "</style>\n",
       "<table border=\"1\" class=\"dataframe\">\n",
       "  <thead>\n",
       "    <tr style=\"text-align: right;\">\n",
       "      <th></th>\n",
       "      <th>Unnamed: 1</th>\n",
       "      <th>Unnamed: 2</th>\n",
       "      <th>Unnamed: 3</th>\n",
       "      <th>Unnamed: 4</th>\n",
       "      <th>Unnamed: 5</th>\n",
       "      <th>Unnamed: 6</th>\n",
       "      <th>Unnamed: 7</th>\n",
       "      <th>Unnamed: 8</th>\n",
       "    </tr>\n",
       "  </thead>\n",
       "  <tbody>\n",
       "    <tr>\n",
       "      <th>0</th>\n",
       "      <td>AVERAGE PRICES PAID TO FARMERS AND PROCESSORS ...</td>\n",
       "      <td>NaN</td>\n",
       "      <td>NaN</td>\n",
       "      <td>NaN</td>\n",
       "      <td>NaN</td>\n",
       "      <td>NaN</td>\n",
       "      <td>NaN</td>\n",
       "      <td>NaN</td>\n",
       "    </tr>\n",
       "    <tr>\n",
       "      <th>1</th>\n",
       "      <td>DEC 2013 IN UGANDA SHILLINGS PER KILOGRAM  (U ...</td>\n",
       "      <td>NaN</td>\n",
       "      <td>NaN</td>\n",
       "      <td>NaN</td>\n",
       "      <td>NaN</td>\n",
       "      <td>NaN</td>\n",
       "      <td>NaN</td>\n",
       "      <td>NaN</td>\n",
       "    </tr>\n",
       "    <tr>\n",
       "      <th>2</th>\n",
       "      <td>NaN</td>\n",
       "      <td>Shs</td>\n",
       "      <td>NaN</td>\n",
       "      <td>NaN</td>\n",
       "      <td>NaN</td>\n",
       "      <td>$</td>\n",
       "      <td>NaN</td>\n",
       "      <td>NaN</td>\n",
       "    </tr>\n",
       "    <tr>\n",
       "      <th>3</th>\n",
       "      <td>MONTH</td>\n",
       "      <td>ROBUSTA KIBOKO</td>\n",
       "      <td>ROBUSTA FAQ</td>\n",
       "      <td>ARABICA PARCHMENT</td>\n",
       "      <td>EX.RATE Sh/Kg</td>\n",
       "      <td>ROBUSTA KIBOKO</td>\n",
       "      <td>ROBUSTA FAQ</td>\n",
       "      <td>ARABICA PARCHMENT</td>\n",
       "    </tr>\n",
       "    <tr>\n",
       "      <th>4</th>\n",
       "      <td>1992-07-01 00:00:00</td>\n",
       "      <td>210</td>\n",
       "      <td>420</td>\n",
       "      <td>499</td>\n",
       "      <td>1177.86</td>\n",
       "      <td>0.178289</td>\n",
       "      <td>0.356579</td>\n",
       "      <td>0.42365</td>\n",
       "    </tr>\n",
       "    <tr>\n",
       "      <th>...</th>\n",
       "      <td>...</td>\n",
       "      <td>...</td>\n",
       "      <td>...</td>\n",
       "      <td>...</td>\n",
       "      <td>...</td>\n",
       "      <td>...</td>\n",
       "      <td>...</td>\n",
       "      <td>...</td>\n",
       "    </tr>\n",
       "    <tr>\n",
       "      <th>280</th>\n",
       "      <td>2015-07-01 00:00:00</td>\n",
       "      <td>2200</td>\n",
       "      <td>4350</td>\n",
       "      <td>5850</td>\n",
       "      <td>3360.09</td>\n",
       "      <td>0.654744</td>\n",
       "      <td>1.294608</td>\n",
       "      <td>1.741025</td>\n",
       "    </tr>\n",
       "    <tr>\n",
       "      <th>281</th>\n",
       "      <td>2015-08-01 00:00:00</td>\n",
       "      <td>2200</td>\n",
       "      <td>4500</td>\n",
       "      <td>6250</td>\n",
       "      <td>3548.25</td>\n",
       "      <td>0.620024</td>\n",
       "      <td>1.268231</td>\n",
       "      <td>1.761432</td>\n",
       "    </tr>\n",
       "    <tr>\n",
       "      <th>282</th>\n",
       "      <td>2015-09-01 00:00:00</td>\n",
       "      <td>2150</td>\n",
       "      <td>4250</td>\n",
       "      <td>5750</td>\n",
       "      <td>3667.5</td>\n",
       "      <td>0.58623</td>\n",
       "      <td>1.158828</td>\n",
       "      <td>1.567825</td>\n",
       "    </tr>\n",
       "    <tr>\n",
       "      <th>283</th>\n",
       "      <td>NaN</td>\n",
       "      <td>NaN</td>\n",
       "      <td>NaN</td>\n",
       "      <td>NaN</td>\n",
       "      <td>NaN</td>\n",
       "      <td>NaN</td>\n",
       "      <td>NaN</td>\n",
       "      <td>NaN</td>\n",
       "    </tr>\n",
       "    <tr>\n",
       "      <th>284</th>\n",
       "      <td>Source: UCDA Database</td>\n",
       "      <td>NaN</td>\n",
       "      <td>NaN</td>\n",
       "      <td>NaN</td>\n",
       "      <td>NaN</td>\n",
       "      <td>NaN</td>\n",
       "      <td>NaN</td>\n",
       "      <td>NaN</td>\n",
       "    </tr>\n",
       "  </tbody>\n",
       "</table>\n",
       "<p>285 rows × 8 columns</p>\n",
       "</div>"
      ],
      "text/plain": [
       "                                            Unnamed: 1      Unnamed: 2  \\\n",
       "0    AVERAGE PRICES PAID TO FARMERS AND PROCESSORS ...             NaN   \n",
       "1    DEC 2013 IN UGANDA SHILLINGS PER KILOGRAM  (U ...             NaN   \n",
       "2                                                  NaN             Shs   \n",
       "3                                                MONTH  ROBUSTA KIBOKO   \n",
       "4                                  1992-07-01 00:00:00             210   \n",
       "..                                                 ...             ...   \n",
       "280                                2015-07-01 00:00:00            2200   \n",
       "281                                2015-08-01 00:00:00            2200   \n",
       "282                                2015-09-01 00:00:00            2150   \n",
       "283                                                NaN             NaN   \n",
       "284                              Source: UCDA Database             NaN   \n",
       "\n",
       "      Unnamed: 3         Unnamed: 4     Unnamed: 5      Unnamed: 6  \\\n",
       "0            NaN                NaN            NaN             NaN   \n",
       "1            NaN                NaN            NaN             NaN   \n",
       "2            NaN                NaN            NaN               $   \n",
       "3    ROBUSTA FAQ  ARABICA PARCHMENT  EX.RATE Sh/Kg  ROBUSTA KIBOKO   \n",
       "4            420                499        1177.86        0.178289   \n",
       "..           ...                ...            ...             ...   \n",
       "280         4350               5850        3360.09        0.654744   \n",
       "281         4500               6250        3548.25        0.620024   \n",
       "282         4250               5750         3667.5         0.58623   \n",
       "283          NaN                NaN            NaN             NaN   \n",
       "284          NaN                NaN            NaN             NaN   \n",
       "\n",
       "      Unnamed: 7         Unnamed: 8  \n",
       "0            NaN                NaN  \n",
       "1            NaN                NaN  \n",
       "2            NaN                NaN  \n",
       "3    ROBUSTA FAQ  ARABICA PARCHMENT  \n",
       "4       0.356579            0.42365  \n",
       "..           ...                ...  \n",
       "280     1.294608           1.741025  \n",
       "281     1.268231           1.761432  \n",
       "282     1.158828           1.567825  \n",
       "283          NaN                NaN  \n",
       "284          NaN                NaN  \n",
       "\n",
       "[285 rows x 8 columns]"
      ]
     },
     "execution_count": 110,
     "metadata": {},
     "output_type": "execute_result"
    }
   ],
   "source": [
    "coffeePriceTrends"
   ]
  },
  {
   "cell_type": "code",
   "execution_count": 111,
   "id": "97e70147-0eab-4d48-8650-a0eb008c073a",
   "metadata": {},
   "outputs": [],
   "source": [
    "columnNames = coffeePriceTrends.loc[3].tolist()"
   ]
  },
  {
   "cell_type": "code",
   "execution_count": 112,
   "id": "eb1e6ab1-4110-4ee0-bb39-328f88daeee6",
   "metadata": {},
   "outputs": [
    {
     "data": {
      "text/plain": [
       "['MONTH',\n",
       " 'ROBUSTA KIBOKO',\n",
       " 'ROBUSTA FAQ',\n",
       " 'ARABICA PARCHMENT',\n",
       " 'EX.RATE Sh/Kg',\n",
       " 'ROBUSTA KIBOKO',\n",
       " 'ROBUSTA FAQ',\n",
       " 'ARABICA PARCHMENT']"
      ]
     },
     "execution_count": 112,
     "metadata": {},
     "output_type": "execute_result"
    }
   ],
   "source": [
    "columnNames"
   ]
  },
  {
   "cell_type": "code",
   "execution_count": 113,
   "id": "0d45231d-e355-481c-b7b3-d9fdc9ffa39e",
   "metadata": {},
   "outputs": [],
   "source": [
    "coffeePriceTrends.drop(coffeePriceTrends.index[:4], inplace=True,\n",
    "                       axis=0,\n",
    "                      )"
   ]
  },
  {
   "cell_type": "code",
   "execution_count": 114,
   "id": "f8c3bf60-117e-435e-9c73-b4b3852a19de",
   "metadata": {},
   "outputs": [
    {
     "data": {
      "text/plain": [
       "4        1992-07-01 00:00:00\n",
       "5        1992-08-01 00:00:00\n",
       "6        1992-09-01 00:00:00\n",
       "7        1992-10-01 00:00:00\n",
       "8        1992-11-01 00:00:00\n",
       "               ...          \n",
       "280      2015-07-01 00:00:00\n",
       "281      2015-08-01 00:00:00\n",
       "282      2015-09-01 00:00:00\n",
       "283                      NaN\n",
       "284    Source: UCDA Database\n",
       "Name: Unnamed: 1, Length: 281, dtype: object"
      ]
     },
     "execution_count": 114,
     "metadata": {},
     "output_type": "execute_result"
    }
   ],
   "source": [
    "coffeePriceTrends['Unnamed: 1']"
   ]
  },
  {
   "cell_type": "code",
   "execution_count": 115,
   "id": "24d56410-7361-4bba-849a-fab4001a6a8b",
   "metadata": {},
   "outputs": [],
   "source": [
    "oldColumnNames = coffeePriceTrends.columns.tolist()"
   ]
  },
  {
   "cell_type": "code",
   "execution_count": 116,
   "id": "74af011f-d879-4e8f-bbb1-1fb4a8cbfd9f",
   "metadata": {},
   "outputs": [
    {
     "data": {
      "text/plain": [
       "['Unnamed: 1',\n",
       " 'Unnamed: 2',\n",
       " 'Unnamed: 3',\n",
       " 'Unnamed: 4',\n",
       " 'Unnamed: 5',\n",
       " 'Unnamed: 6',\n",
       " 'Unnamed: 7',\n",
       " 'Unnamed: 8']"
      ]
     },
     "execution_count": 116,
     "metadata": {},
     "output_type": "execute_result"
    }
   ],
   "source": [
    "oldColumnNames"
   ]
  },
  {
   "cell_type": "code",
   "execution_count": 117,
   "id": "e6c46bd8-4389-4baa-9130-75ce1214ebd5",
   "metadata": {},
   "outputs": [
    {
     "data": {
      "text/plain": [
       "{'Unnamed: 1': 'MONTH',\n",
       " 'Unnamed: 2': 'ROBUSTA KIBOKO',\n",
       " 'Unnamed: 3': 'ROBUSTA FAQ',\n",
       " 'Unnamed: 4': 'ARABICA PARCHMENT',\n",
       " 'Unnamed: 5': 'EX.RATE Sh/Kg',\n",
       " 'Unnamed: 6': 'ROBUSTA KIBOKO',\n",
       " 'Unnamed: 7': 'ROBUSTA FAQ',\n",
       " 'Unnamed: 8': 'ARABICA PARCHMENT'}"
      ]
     },
     "execution_count": 117,
     "metadata": {},
     "output_type": "execute_result"
    }
   ],
   "source": [
    "{oldColumnNames[x]:columnNames[x] for x in range(len(columnNames))}"
   ]
  },
  {
   "cell_type": "code",
   "execution_count": 118,
   "id": "184820a9-c774-43da-b2e0-b77457137d24",
   "metadata": {},
   "outputs": [
    {
     "data": {
      "text/plain": [
       "['MONTH',\n",
       " 'ROBUSTA KIBOKO',\n",
       " 'ROBUSTA FAQ',\n",
       " 'ARABICA PARCHMENT',\n",
       " 'EX.RATE Sh/Kg',\n",
       " 'ROBUSTA KIBOKO',\n",
       " 'ROBUSTA FAQ',\n",
       " 'ARABICA PARCHMENT']"
      ]
     },
     "execution_count": 118,
     "metadata": {},
     "output_type": "execute_result"
    }
   ],
   "source": [
    "columnNames"
   ]
  },
  {
   "cell_type": "code",
   "execution_count": 119,
   "id": "9f134ba5-8b14-4cd9-a940-7219a92e5229",
   "metadata": {},
   "outputs": [],
   "source": [
    "coffeePriceTrends = coffeePriceTrends.rename(columns={oldColumnNames[x]:columnNames[x] for x in range(len(columnNames))})"
   ]
  },
  {
   "cell_type": "code",
   "execution_count": 120,
   "id": "5595b938-562f-4300-bd2a-c7e8df0f319a",
   "metadata": {},
   "outputs": [],
   "source": [
    "coffeePriceTrends = coffeePriceTrends.set_index('MONTH')"
   ]
  },
  {
   "cell_type": "code",
   "execution_count": 140,
   "id": "e5cbed9e-66f4-42bb-93e7-38cc0048c137",
   "metadata": {},
   "outputs": [
    {
     "data": {
      "text/plain": [
       "UGX      ROBUSTA KIBOKO               300\n",
       "         ROBUSTA FAQ                  770\n",
       "         ARABICA PARCHMENT           1250\n",
       "EX.RATE  EX.RATE Sh/Kg        1742.966316\n",
       "USD      ROBUSTA KIBOKO           0.17212\n",
       "         ROBUSTA FAQ             0.441776\n",
       "         ARABICA PARCHMENT       0.717168\n",
       "Name: Feb-01, dtype: object"
      ]
     },
     "execution_count": 140,
     "metadata": {},
     "output_type": "execute_result"
    }
   ],
   "source": [
    "coffeePriceTrends.iloc[103]"
   ]
  },
  {
   "cell_type": "code",
   "execution_count": 122,
   "id": "638f3dfa-d63c-4040-bde5-693cb13e7d1f",
   "metadata": {},
   "outputs": [],
   "source": [
    "index = pd.MultiIndex.from_arrays([[\"UGX\", \"UGX\", \"UGX\", \"EX.RATE\", \"USD\", \"USD\", \"USD\"],\n",
    "                                   [\"ROBUSTA KIBOKO\", \"ROBUSTA FAQ\", \"ARABICA PARCHMENT\", \"EX.RATE Sh/Kg\", \"ROBUSTA KIBOKO\", \"ROBUSTA FAQ\", \"ARABICA PARCHMENT\"]])"
   ]
  },
  {
   "cell_type": "code",
   "execution_count": 123,
   "id": "da7b6721-5467-4f9f-9a7e-09ecaf4a9b89",
   "metadata": {},
   "outputs": [],
   "source": [
    "coffeePriceTrends.columns = index"
   ]
  },
  {
   "cell_type": "code",
   "execution_count": 124,
   "id": "40b4b7cb-2bb7-41ba-88e4-d1ce3b3c7855",
   "metadata": {},
   "outputs": [
    {
     "data": {
      "text/html": [
       "<div>\n",
       "<style scoped>\n",
       "    .dataframe tbody tr th:only-of-type {\n",
       "        vertical-align: middle;\n",
       "    }\n",
       "\n",
       "    .dataframe tbody tr th {\n",
       "        vertical-align: top;\n",
       "    }\n",
       "\n",
       "    .dataframe thead tr th {\n",
       "        text-align: left;\n",
       "    }\n",
       "\n",
       "    .dataframe thead tr:last-of-type th {\n",
       "        text-align: right;\n",
       "    }\n",
       "</style>\n",
       "<table border=\"1\" class=\"dataframe\">\n",
       "  <thead>\n",
       "    <tr>\n",
       "      <th></th>\n",
       "      <th colspan=\"3\" halign=\"left\">UGX</th>\n",
       "      <th>EX.RATE</th>\n",
       "      <th colspan=\"3\" halign=\"left\">USD</th>\n",
       "    </tr>\n",
       "    <tr>\n",
       "      <th></th>\n",
       "      <th>ROBUSTA KIBOKO</th>\n",
       "      <th>ROBUSTA FAQ</th>\n",
       "      <th>ARABICA PARCHMENT</th>\n",
       "      <th>EX.RATE Sh/Kg</th>\n",
       "      <th>ROBUSTA KIBOKO</th>\n",
       "      <th>ROBUSTA FAQ</th>\n",
       "      <th>ARABICA PARCHMENT</th>\n",
       "    </tr>\n",
       "    <tr>\n",
       "      <th>MONTH</th>\n",
       "      <th></th>\n",
       "      <th></th>\n",
       "      <th></th>\n",
       "      <th></th>\n",
       "      <th></th>\n",
       "      <th></th>\n",
       "      <th></th>\n",
       "    </tr>\n",
       "  </thead>\n",
       "  <tbody>\n",
       "    <tr>\n",
       "      <th>1992-07-01 00:00:00</th>\n",
       "      <td>210</td>\n",
       "      <td>420</td>\n",
       "      <td>499</td>\n",
       "      <td>1177.86</td>\n",
       "      <td>0.178289</td>\n",
       "      <td>0.356579</td>\n",
       "      <td>0.42365</td>\n",
       "    </tr>\n",
       "    <tr>\n",
       "      <th>1992-08-01 00:00:00</th>\n",
       "      <td>220</td>\n",
       "      <td>440</td>\n",
       "      <td>500</td>\n",
       "      <td>1185.29</td>\n",
       "      <td>0.185609</td>\n",
       "      <td>0.371217</td>\n",
       "      <td>0.421838</td>\n",
       "    </tr>\n",
       "    <tr>\n",
       "      <th>1992-09-01 00:00:00</th>\n",
       "      <td>215</td>\n",
       "      <td>400</td>\n",
       "      <td>502</td>\n",
       "      <td>1185.15</td>\n",
       "      <td>0.181412</td>\n",
       "      <td>0.33751</td>\n",
       "      <td>0.423575</td>\n",
       "    </tr>\n",
       "    <tr>\n",
       "      <th>1992-10-01 00:00:00</th>\n",
       "      <td>225</td>\n",
       "      <td>450</td>\n",
       "      <td>510</td>\n",
       "      <td>1181.07</td>\n",
       "      <td>0.190505</td>\n",
       "      <td>0.38101</td>\n",
       "      <td>0.431812</td>\n",
       "    </tr>\n",
       "    <tr>\n",
       "      <th>1992-11-01 00:00:00</th>\n",
       "      <td>250</td>\n",
       "      <td>500</td>\n",
       "      <td>550</td>\n",
       "      <td>1196.34</td>\n",
       "      <td>0.208971</td>\n",
       "      <td>0.417941</td>\n",
       "      <td>0.459736</td>\n",
       "    </tr>\n",
       "    <tr>\n",
       "      <th>...</th>\n",
       "      <td>...</td>\n",
       "      <td>...</td>\n",
       "      <td>...</td>\n",
       "      <td>...</td>\n",
       "      <td>...</td>\n",
       "      <td>...</td>\n",
       "      <td>...</td>\n",
       "    </tr>\n",
       "    <tr>\n",
       "      <th>2015-07-01 00:00:00</th>\n",
       "      <td>2200</td>\n",
       "      <td>4350</td>\n",
       "      <td>5850</td>\n",
       "      <td>3360.09</td>\n",
       "      <td>0.654744</td>\n",
       "      <td>1.294608</td>\n",
       "      <td>1.741025</td>\n",
       "    </tr>\n",
       "    <tr>\n",
       "      <th>2015-08-01 00:00:00</th>\n",
       "      <td>2200</td>\n",
       "      <td>4500</td>\n",
       "      <td>6250</td>\n",
       "      <td>3548.25</td>\n",
       "      <td>0.620024</td>\n",
       "      <td>1.268231</td>\n",
       "      <td>1.761432</td>\n",
       "    </tr>\n",
       "    <tr>\n",
       "      <th>2015-09-01 00:00:00</th>\n",
       "      <td>2150</td>\n",
       "      <td>4250</td>\n",
       "      <td>5750</td>\n",
       "      <td>3667.5</td>\n",
       "      <td>0.58623</td>\n",
       "      <td>1.158828</td>\n",
       "      <td>1.567825</td>\n",
       "    </tr>\n",
       "    <tr>\n",
       "      <th>NaN</th>\n",
       "      <td>NaN</td>\n",
       "      <td>NaN</td>\n",
       "      <td>NaN</td>\n",
       "      <td>NaN</td>\n",
       "      <td>NaN</td>\n",
       "      <td>NaN</td>\n",
       "      <td>NaN</td>\n",
       "    </tr>\n",
       "    <tr>\n",
       "      <th>Source: UCDA Database</th>\n",
       "      <td>NaN</td>\n",
       "      <td>NaN</td>\n",
       "      <td>NaN</td>\n",
       "      <td>NaN</td>\n",
       "      <td>NaN</td>\n",
       "      <td>NaN</td>\n",
       "      <td>NaN</td>\n",
       "    </tr>\n",
       "  </tbody>\n",
       "</table>\n",
       "<p>281 rows × 7 columns</p>\n",
       "</div>"
      ],
      "text/plain": [
       "                                 UGX                                \\\n",
       "                      ROBUSTA KIBOKO ROBUSTA FAQ ARABICA PARCHMENT   \n",
       "MONTH                                                                \n",
       "1992-07-01 00:00:00              210         420               499   \n",
       "1992-08-01 00:00:00              220         440               500   \n",
       "1992-09-01 00:00:00              215         400               502   \n",
       "1992-10-01 00:00:00              225         450               510   \n",
       "1992-11-01 00:00:00              250         500               550   \n",
       "...                              ...         ...               ...   \n",
       "2015-07-01 00:00:00             2200        4350              5850   \n",
       "2015-08-01 00:00:00             2200        4500              6250   \n",
       "2015-09-01 00:00:00             2150        4250              5750   \n",
       "NaN                              NaN         NaN               NaN   \n",
       "Source: UCDA Database            NaN         NaN               NaN   \n",
       "\n",
       "                            EX.RATE            USD              \\\n",
       "                      EX.RATE Sh/Kg ROBUSTA KIBOKO ROBUSTA FAQ   \n",
       "MONTH                                                            \n",
       "1992-07-01 00:00:00         1177.86       0.178289    0.356579   \n",
       "1992-08-01 00:00:00         1185.29       0.185609    0.371217   \n",
       "1992-09-01 00:00:00         1185.15       0.181412     0.33751   \n",
       "1992-10-01 00:00:00         1181.07       0.190505     0.38101   \n",
       "1992-11-01 00:00:00         1196.34       0.208971    0.417941   \n",
       "...                             ...            ...         ...   \n",
       "2015-07-01 00:00:00         3360.09       0.654744    1.294608   \n",
       "2015-08-01 00:00:00         3548.25       0.620024    1.268231   \n",
       "2015-09-01 00:00:00          3667.5        0.58623    1.158828   \n",
       "NaN                             NaN            NaN         NaN   \n",
       "Source: UCDA Database           NaN            NaN         NaN   \n",
       "\n",
       "                                         \n",
       "                      ARABICA PARCHMENT  \n",
       "MONTH                                    \n",
       "1992-07-01 00:00:00             0.42365  \n",
       "1992-08-01 00:00:00            0.421838  \n",
       "1992-09-01 00:00:00            0.423575  \n",
       "1992-10-01 00:00:00            0.431812  \n",
       "1992-11-01 00:00:00            0.459736  \n",
       "...                                 ...  \n",
       "2015-07-01 00:00:00            1.741025  \n",
       "2015-08-01 00:00:00            1.761432  \n",
       "2015-09-01 00:00:00            1.567825  \n",
       "NaN                                 NaN  \n",
       "Source: UCDA Database               NaN  \n",
       "\n",
       "[281 rows x 7 columns]"
      ]
     },
     "execution_count": 124,
     "metadata": {},
     "output_type": "execute_result"
    }
   ],
   "source": [
    "coffeePriceTrends"
   ]
  },
  {
   "cell_type": "markdown",
   "id": "33b59c03-9629-44e5-84f9-5638095b7ac5",
   "metadata": {},
   "source": [
    "<h3>Dataset Profiling</h3>"
   ]
  },
  {
   "cell_type": "code",
   "execution_count": 125,
   "id": "36784da2-5e65-4c66-8eda-7160ad482781",
   "metadata": {},
   "outputs": [],
   "source": [
    "# stats = []\n",
    "# for cl in coffeePriceTrends.columns:\n",
    "#     stats.append((cl,\n",
    "#                   coffeePriceTrends[cl].nunique(),\n",
    "#                   coffeePriceTrends[cl].isnull().sum(),\n",
    "#                   coffeePriceTrends[cl].isnull().sum() * 100 / coffeePriceTrends.shape[0],\n",
    "#                   coffeePriceTrends[cl].value_counts(normalize=True, dropna=False).values[0] * 100,\n",
    "#                   coffeePriceTrends[cl].dtype))\n",
    "# stats_df = pd.DataFrame(stats, columns=['Feature',\n",
    "#                                         'Unique Values',\n",
    "#                                         'Missing Values',\n",
    "#                                         'Missing Values [%]',\n",
    "#                                         'Values in the biggest category [%]',\n",
    "#                                         'Datatype'])\n",
    "# stats_df.sort_values('Missing Values [%]', ascending=False)"
   ]
  },
  {
   "cell_type": "code",
   "execution_count": 126,
   "id": "f8c5c37e-0d92-45b2-ae6a-e242b8137b14",
   "metadata": {},
   "outputs": [],
   "source": [
    "# ProfileReport(coffeePriceTrends,\n",
    "#                                 title=\"Coffee\",\n",
    "#                             )"
   ]
  },
  {
   "cell_type": "markdown",
   "id": "66b1290b-0ac8-48c8-89db-9869a5c2a603",
   "metadata": {},
   "source": [
    "<h3>Time Series</h3>"
   ]
  },
  {
   "cell_type": "markdown",
   "id": "8b62288a-bea6-4a63-8b57-821007e7473b",
   "metadata": {},
   "source": [
    "<ul>To Do</ul>\n",
    "<li>Manipulate the Month Index to uniform format</li>\n",
    "<li>Convert Index to format yyyy-mm-dd</li>\n",
    "<li>Calculate mean values for year and month</li>\n",
    "<li>...</li>"
   ]
  },
  {
   "cell_type": "code",
   "execution_count": 127,
   "id": "ee230618-e8ce-4396-8ad4-67b79245a1e7",
   "metadata": {},
   "outputs": [],
   "source": [
    "# Datetime index yyyy-mm-dd\n",
    "# Get\n",
    "coffeePriceTrends = coffeePriceTrends.dropna()"
   ]
  },
  {
   "cell_type": "code",
   "execution_count": 128,
   "id": "b5681ab4-b2c4-4548-ad1e-de605e092569",
   "metadata": {},
   "outputs": [
    {
     "data": {
      "text/plain": [
       "Timestamp('2024-06-01 11:06:17.813484')"
      ]
     },
     "execution_count": 128,
     "metadata": {},
     "output_type": "execute_result"
    }
   ],
   "source": [
    "pd.to_datetime(datetime.now(), format=\"yyyy-mm-dd\")"
   ]
  },
  {
   "cell_type": "code",
   "execution_count": 129,
   "id": "7aad77cf-ab40-4dd3-9724-fcdb697b3222",
   "metadata": {},
   "outputs": [],
   "source": [
    "# datetime.now()[:54]"
   ]
  },
  {
   "cell_type": "code",
   "execution_count": 147,
   "id": "f5d4ac56-7a76-4f2f-881f-6b292e65f3b4",
   "metadata": {},
   "outputs": [],
   "source": [
    "# index = coffeePriceTrends.index\n",
    "# coffeePriceTrends.index.to_period(\"M\")"
   ]
  },
  {
   "cell_type": "code",
   "execution_count": 131,
   "id": "5d553255-24a9-4152-b1b2-84c5a98a610b",
   "metadata": {},
   "outputs": [],
   "source": [
    "df = pd.DataFrame({\"y\": [1, 2, 3]},\n",
    "                  index=pd.to_datetime([\"2000-03-31 00:00:00\",\n",
    "                                       \"2000-05-31 00:00:00\",\n",
    "                                        \"2000-08-31 00:00:00\"]))"
   ]
  },
  {
   "cell_type": "code",
   "execution_count": 146,
   "id": "bae26fa0-5d70-4641-a1f6-7acdaf3d16f1",
   "metadata": {},
   "outputs": [
    {
     "data": {
      "text/plain": [
       "[datetime.datetime(1992, 7, 1, 0, 0),\n",
       " datetime.datetime(1992, 8, 1, 0, 0),\n",
       " datetime.datetime(1992, 9, 1, 0, 0),\n",
       " datetime.datetime(1992, 10, 1, 0, 0),\n",
       " datetime.datetime(1992, 11, 1, 0, 0),\n",
       " datetime.datetime(1992, 12, 1, 0, 0),\n",
       " datetime.datetime(1993, 1, 1, 0, 0),\n",
       " datetime.datetime(1993, 2, 1, 0, 0),\n",
       " datetime.datetime(1993, 3, 1, 0, 0),\n",
       " datetime.datetime(1993, 4, 1, 0, 0),\n",
       " datetime.datetime(1993, 5, 1, 0, 0),\n",
       " datetime.datetime(1993, 6, 1, 0, 0),\n",
       " datetime.datetime(1993, 7, 1, 0, 0),\n",
       " datetime.datetime(1993, 8, 1, 0, 0),\n",
       " datetime.datetime(1993, 9, 1, 0, 0),\n",
       " datetime.datetime(1993, 10, 1, 0, 0),\n",
       " datetime.datetime(1993, 11, 1, 0, 0),\n",
       " datetime.datetime(1993, 12, 1, 0, 0),\n",
       " datetime.datetime(1994, 1, 1, 0, 0),\n",
       " datetime.datetime(1994, 2, 1, 0, 0),\n",
       " datetime.datetime(1994, 3, 1, 0, 0),\n",
       " datetime.datetime(1994, 4, 1, 0, 0),\n",
       " datetime.datetime(1994, 5, 1, 0, 0),\n",
       " datetime.datetime(1994, 6, 1, 0, 0),\n",
       " datetime.datetime(1994, 7, 1, 0, 0),\n",
       " datetime.datetime(1994, 8, 1, 0, 0),\n",
       " datetime.datetime(1994, 9, 1, 0, 0),\n",
       " datetime.datetime(1994, 10, 1, 0, 0),\n",
       " datetime.datetime(1994, 11, 1, 0, 0),\n",
       " datetime.datetime(1994, 12, 1, 0, 0),\n",
       " datetime.datetime(1995, 1, 1, 0, 0),\n",
       " datetime.datetime(1995, 2, 1, 0, 0),\n",
       " datetime.datetime(1995, 3, 1, 0, 0),\n",
       " datetime.datetime(1995, 4, 1, 0, 0),\n",
       " datetime.datetime(1995, 5, 1, 0, 0),\n",
       " datetime.datetime(1995, 6, 1, 0, 0),\n",
       " datetime.datetime(1995, 7, 1, 0, 0),\n",
       " datetime.datetime(1995, 8, 1, 0, 0),\n",
       " datetime.datetime(1995, 9, 1, 0, 0),\n",
       " datetime.datetime(1995, 10, 1, 0, 0),\n",
       " datetime.datetime(1995, 11, 1, 0, 0),\n",
       " datetime.datetime(1995, 12, 1, 0, 0),\n",
       " datetime.datetime(1996, 1, 1, 0, 0),\n",
       " datetime.datetime(1996, 2, 1, 0, 0),\n",
       " datetime.datetime(1996, 3, 1, 0, 0),\n",
       " datetime.datetime(1996, 4, 1, 0, 0),\n",
       " datetime.datetime(1996, 5, 1, 0, 0),\n",
       " datetime.datetime(1996, 6, 1, 0, 0),\n",
       " datetime.datetime(1996, 7, 1, 0, 0),\n",
       " datetime.datetime(1996, 8, 1, 0, 0),\n",
       " datetime.datetime(1996, 9, 1, 0, 0),\n",
       " datetime.datetime(1996, 10, 1, 0, 0),\n",
       " datetime.datetime(1996, 11, 1, 0, 0),\n",
       " datetime.datetime(1996, 12, 1, 0, 0),\n",
       " datetime.datetime(1997, 1, 1, 0, 0),\n",
       " datetime.datetime(1997, 2, 1, 0, 0),\n",
       " datetime.datetime(1997, 3, 1, 0, 0),\n",
       " datetime.datetime(1997, 4, 1, 0, 0),\n",
       " datetime.datetime(1997, 5, 1, 0, 0),\n",
       " datetime.datetime(1997, 6, 1, 0, 0),\n",
       " datetime.datetime(1997, 7, 1, 0, 0),\n",
       " datetime.datetime(1997, 8, 1, 0, 0),\n",
       " datetime.datetime(1997, 9, 1, 0, 0),\n",
       " datetime.datetime(1997, 10, 1, 0, 0),\n",
       " datetime.datetime(1997, 11, 1, 0, 0),\n",
       " datetime.datetime(1997, 12, 1, 0, 0),\n",
       " datetime.datetime(1998, 1, 1, 0, 0),\n",
       " datetime.datetime(1998, 2, 1, 0, 0),\n",
       " datetime.datetime(1998, 3, 1, 0, 0),\n",
       " datetime.datetime(1998, 4, 1, 0, 0),\n",
       " datetime.datetime(1998, 5, 1, 0, 0),\n",
       " datetime.datetime(1998, 6, 1, 0, 0),\n",
       " datetime.datetime(1998, 7, 1, 0, 0),\n",
       " datetime.datetime(1998, 8, 1, 0, 0),\n",
       " datetime.datetime(1998, 9, 1, 0, 0),\n",
       " datetime.datetime(1998, 10, 1, 0, 0),\n",
       " datetime.datetime(1998, 11, 1, 0, 0),\n",
       " datetime.datetime(1998, 12, 1, 0, 0),\n",
       " datetime.datetime(1999, 1, 1, 0, 0),\n",
       " datetime.datetime(1999, 2, 1, 0, 0),\n",
       " datetime.datetime(1999, 3, 1, 0, 0),\n",
       " datetime.datetime(1999, 4, 1, 0, 0),\n",
       " datetime.datetime(1999, 5, 1, 0, 0),\n",
       " datetime.datetime(1999, 6, 1, 0, 0),\n",
       " datetime.datetime(1999, 7, 1, 0, 0),\n",
       " datetime.datetime(1999, 8, 1, 0, 0),\n",
       " datetime.datetime(1999, 9, 1, 0, 0),\n",
       " datetime.datetime(1999, 10, 1, 0, 0),\n",
       " datetime.datetime(1999, 11, 1, 0, 0),\n",
       " datetime.datetime(1999, 12, 1, 0, 0),\n",
       " datetime.datetime(2000, 1, 1, 0, 0),\n",
       " datetime.datetime(2000, 2, 1, 0, 0),\n",
       " datetime.datetime(2000, 3, 1, 0, 0),\n",
       " datetime.datetime(2000, 4, 1, 0, 0),\n",
       " datetime.datetime(2000, 5, 1, 0, 0),\n",
       " datetime.datetime(2000, 6, 1, 0, 0),\n",
       " datetime.datetime(2000, 7, 1, 0, 0),\n",
       " datetime.datetime(2000, 8, 1, 0, 0),\n",
       " datetime.datetime(2000, 9, 1, 0, 0),\n",
       " datetime.datetime(2000, 10, 1, 0, 0),\n",
       " datetime.datetime(2000, 11, 1, 0, 0),\n",
       " datetime.datetime(2000, 12, 1, 0, 0),\n",
       " datetime.datetime(2001, 1, 1, 0, 0),\n",
       " 'Feb-01',\n",
       " datetime.datetime(2001, 3, 1, 0, 0),\n",
       " 'Apr-01',\n",
       " 'May-01',\n",
       " 'Jun-01',\n",
       " datetime.datetime(2001, 7, 1, 0, 0),\n",
       " datetime.datetime(2001, 8, 1, 0, 0),\n",
       " datetime.datetime(2001, 9, 1, 0, 0),\n",
       " datetime.datetime(2001, 10, 1, 0, 0),\n",
       " datetime.datetime(2001, 11, 1, 0, 0),\n",
       " datetime.datetime(2001, 12, 1, 0, 0),\n",
       " datetime.datetime(2002, 1, 1, 0, 0),\n",
       " datetime.datetime(2002, 2, 1, 0, 0),\n",
       " datetime.datetime(2002, 3, 1, 0, 0),\n",
       " datetime.datetime(2002, 4, 1, 0, 0),\n",
       " datetime.datetime(2002, 5, 1, 0, 0),\n",
       " datetime.datetime(2002, 6, 1, 0, 0),\n",
       " datetime.datetime(2002, 7, 1, 0, 0),\n",
       " datetime.datetime(2002, 8, 1, 0, 0),\n",
       " datetime.datetime(2002, 9, 1, 0, 0),\n",
       " datetime.datetime(2002, 10, 1, 0, 0),\n",
       " datetime.datetime(2002, 11, 1, 0, 0),\n",
       " datetime.datetime(2002, 12, 1, 0, 0),\n",
       " datetime.datetime(2003, 1, 1, 0, 0),\n",
       " datetime.datetime(2003, 2, 1, 0, 0),\n",
       " datetime.datetime(2003, 3, 1, 0, 0),\n",
       " datetime.datetime(2003, 4, 1, 0, 0),\n",
       " datetime.datetime(2003, 5, 1, 0, 0),\n",
       " datetime.datetime(2003, 6, 3, 0, 0),\n",
       " 'Jul-03',\n",
       " 'Aug-03',\n",
       " 'Sep-03',\n",
       " 'Oct-03',\n",
       " 'Nov-03',\n",
       " 'Dec-03',\n",
       " datetime.datetime(2004, 1, 4, 0, 0),\n",
       " datetime.datetime(2004, 2, 4, 0, 0),\n",
       " datetime.datetime(2004, 3, 4, 0, 0),\n",
       " datetime.datetime(2004, 4, 4, 0, 0),\n",
       " 'May-04',\n",
       " 'Jun-04',\n",
       " 'Jul-04',\n",
       " 'Aug-04',\n",
       " 'Sep-04',\n",
       " ' Oct-04',\n",
       " 'Nov-04',\n",
       " 'Dec-04',\n",
       " datetime.datetime(2005, 1, 4, 0, 0),\n",
       " datetime.datetime(2005, 2, 4, 0, 0),\n",
       " datetime.datetime(2005, 3, 4, 0, 0),\n",
       " datetime.datetime(2004, 4, 4, 0, 0),\n",
       " 'May-05',\n",
       " 'Jun-05',\n",
       " 'Jul-05',\n",
       " 'Aug-05',\n",
       " 'Sep-05',\n",
       " 'Oct-05',\n",
       " 'Nov-05',\n",
       " 'Dec-05',\n",
       " datetime.datetime(2006, 1, 1, 0, 0),\n",
       " datetime.datetime(2006, 2, 1, 0, 0),\n",
       " datetime.datetime(2006, 3, 1, 0, 0),\n",
       " 'Apr-06',\n",
       " 'May-06',\n",
       " datetime.datetime(2006, 6, 1, 0, 0),\n",
       " datetime.datetime(2006, 7, 1, 0, 0),\n",
       " datetime.datetime(2006, 8, 1, 0, 0),\n",
       " datetime.datetime(2006, 9, 1, 0, 0),\n",
       " datetime.datetime(2006, 10, 1, 0, 0),\n",
       " datetime.datetime(2006, 11, 1, 0, 0),\n",
       " datetime.datetime(2006, 12, 1, 0, 0),\n",
       " datetime.datetime(2007, 1, 1, 0, 0),\n",
       " datetime.datetime(2007, 2, 1, 0, 0),\n",
       " datetime.datetime(2007, 3, 1, 0, 0),\n",
       " datetime.datetime(2007, 4, 1, 0, 0),\n",
       " datetime.datetime(2007, 5, 1, 0, 0),\n",
       " datetime.datetime(2007, 6, 1, 0, 0),\n",
       " datetime.datetime(2007, 7, 1, 0, 0),\n",
       " datetime.datetime(2007, 8, 1, 0, 0),\n",
       " datetime.datetime(2007, 9, 1, 0, 0),\n",
       " datetime.datetime(2007, 10, 1, 0, 0),\n",
       " datetime.datetime(2007, 11, 1, 0, 0),\n",
       " datetime.datetime(2007, 12, 1, 0, 0),\n",
       " datetime.datetime(2008, 1, 1, 0, 0),\n",
       " datetime.datetime(2008, 2, 1, 0, 0),\n",
       " datetime.datetime(2008, 3, 1, 0, 0),\n",
       " datetime.datetime(2008, 4, 1, 0, 0),\n",
       " datetime.datetime(2008, 5, 1, 0, 0),\n",
       " datetime.datetime(2008, 6, 1, 0, 0),\n",
       " datetime.datetime(2008, 7, 1, 0, 0),\n",
       " datetime.datetime(2008, 8, 1, 0, 0),\n",
       " datetime.datetime(2008, 9, 1, 0, 0),\n",
       " datetime.datetime(2008, 10, 1, 0, 0),\n",
       " datetime.datetime(2008, 11, 1, 0, 0),\n",
       " datetime.datetime(2008, 12, 1, 0, 0),\n",
       " datetime.datetime(2009, 1, 1, 0, 0),\n",
       " datetime.datetime(2009, 2, 1, 0, 0),\n",
       " datetime.datetime(2009, 3, 1, 0, 0),\n",
       " datetime.datetime(2009, 4, 1, 0, 0),\n",
       " datetime.datetime(2009, 5, 1, 0, 0),\n",
       " datetime.datetime(2009, 6, 1, 0, 0),\n",
       " datetime.datetime(2009, 7, 1, 0, 0),\n",
       " datetime.datetime(2009, 8, 1, 0, 0),\n",
       " datetime.datetime(2009, 9, 1, 0, 0),\n",
       " datetime.datetime(2009, 10, 1, 0, 0),\n",
       " datetime.datetime(2009, 11, 1, 0, 0),\n",
       " datetime.datetime(2009, 12, 1, 0, 0),\n",
       " datetime.datetime(2010, 1, 1, 0, 0),\n",
       " datetime.datetime(2010, 2, 1, 0, 0),\n",
       " datetime.datetime(2010, 3, 1, 0, 0),\n",
       " datetime.datetime(2010, 4, 1, 0, 0),\n",
       " datetime.datetime(2010, 5, 1, 0, 0),\n",
       " datetime.datetime(2010, 6, 1, 0, 0),\n",
       " datetime.datetime(2010, 7, 1, 0, 0),\n",
       " datetime.datetime(2010, 8, 1, 0, 0),\n",
       " datetime.datetime(2010, 9, 1, 0, 0),\n",
       " datetime.datetime(2010, 10, 1, 0, 0),\n",
       " datetime.datetime(2010, 11, 1, 0, 0),\n",
       " datetime.datetime(2010, 12, 1, 0, 0),\n",
       " datetime.datetime(2011, 1, 1, 0, 0),\n",
       " datetime.datetime(2011, 2, 1, 0, 0),\n",
       " datetime.datetime(2011, 3, 1, 0, 0),\n",
       " datetime.datetime(2011, 4, 1, 0, 0),\n",
       " datetime.datetime(2011, 5, 1, 0, 0),\n",
       " datetime.datetime(2011, 6, 1, 0, 0),\n",
       " datetime.datetime(2011, 7, 1, 0, 0),\n",
       " datetime.datetime(2011, 8, 1, 0, 0),\n",
       " datetime.datetime(2011, 9, 1, 0, 0),\n",
       " datetime.datetime(2011, 10, 1, 0, 0),\n",
       " datetime.datetime(2011, 11, 1, 0, 0),\n",
       " datetime.datetime(2011, 12, 1, 0, 0),\n",
       " datetime.datetime(2012, 1, 1, 0, 0),\n",
       " datetime.datetime(2012, 2, 1, 0, 0),\n",
       " datetime.datetime(2012, 3, 1, 0, 0),\n",
       " datetime.datetime(2012, 4, 1, 0, 0),\n",
       " datetime.datetime(2012, 5, 1, 0, 0),\n",
       " datetime.datetime(2012, 6, 1, 0, 0),\n",
       " datetime.datetime(2012, 7, 1, 0, 0),\n",
       " datetime.datetime(2012, 8, 1, 0, 0),\n",
       " datetime.datetime(2012, 9, 1, 0, 0),\n",
       " datetime.datetime(2012, 10, 1, 0, 0),\n",
       " datetime.datetime(2012, 11, 1, 0, 0),\n",
       " datetime.datetime(2012, 12, 1, 0, 0),\n",
       " datetime.datetime(2013, 1, 1, 0, 0),\n",
       " datetime.datetime(2013, 2, 1, 0, 0),\n",
       " datetime.datetime(2013, 3, 1, 0, 0),\n",
       " datetime.datetime(2013, 4, 1, 0, 0),\n",
       " datetime.datetime(2013, 5, 1, 0, 0),\n",
       " datetime.datetime(2013, 6, 1, 0, 0),\n",
       " datetime.datetime(2013, 7, 1, 0, 0),\n",
       " datetime.datetime(2013, 8, 1, 0, 0),\n",
       " datetime.datetime(2013, 9, 1, 0, 0),\n",
       " datetime.datetime(2013, 10, 1, 0, 0),\n",
       " datetime.datetime(2013, 11, 1, 0, 0),\n",
       " datetime.datetime(2013, 12, 1, 0, 0),\n",
       " datetime.datetime(2014, 1, 1, 0, 0),\n",
       " datetime.datetime(2014, 2, 1, 0, 0),\n",
       " datetime.datetime(2014, 3, 1, 0, 0),\n",
       " datetime.datetime(2014, 4, 1, 0, 0),\n",
       " datetime.datetime(2014, 5, 1, 0, 0),\n",
       " datetime.datetime(2014, 6, 1, 0, 0),\n",
       " datetime.datetime(2014, 7, 1, 0, 0),\n",
       " datetime.datetime(2014, 8, 1, 0, 0),\n",
       " datetime.datetime(2014, 9, 1, 0, 0),\n",
       " datetime.datetime(2014, 10, 1, 0, 0),\n",
       " datetime.datetime(2014, 11, 1, 0, 0),\n",
       " datetime.datetime(2014, 12, 1, 0, 0),\n",
       " datetime.datetime(2015, 1, 1, 0, 0),\n",
       " datetime.datetime(2015, 2, 1, 0, 0),\n",
       " datetime.datetime(2015, 3, 1, 0, 0),\n",
       " datetime.datetime(2015, 4, 1, 0, 0),\n",
       " datetime.datetime(2015, 5, 1, 0, 0),\n",
       " datetime.datetime(2015, 6, 1, 0, 0),\n",
       " datetime.datetime(2015, 7, 1, 0, 0),\n",
       " datetime.datetime(2015, 8, 1, 0, 0),\n",
       " datetime.datetime(2015, 9, 1, 0, 0)]"
      ]
     },
     "execution_count": 146,
     "metadata": {},
     "output_type": "execute_result"
    }
   ],
   "source": [
    "coffeePriceTrends.index.tolist()"
   ]
  },
  {
   "cell_type": "code",
   "execution_count": 133,
   "id": "efa5dbe5-ae4d-4aa0-84a3-3a73df936ca5",
   "metadata": {},
   "outputs": [
    {
     "data": {
      "text/plain": [
       "PeriodIndex(['2000-03', '2000-05', '2000-08'], dtype='period[M]')"
      ]
     },
     "execution_count": 133,
     "metadata": {},
     "output_type": "execute_result"
    }
   ],
   "source": [
    "df.index.to_period(\"M\")"
   ]
  },
  {
   "cell_type": "code",
   "execution_count": 134,
   "id": "03eae1c4-cd0a-45eb-9fb0-0e641e81fa8f",
   "metadata": {},
   "outputs": [
    {
     "data": {
      "text/plain": [
       "'MONTH'"
      ]
     },
     "execution_count": 134,
     "metadata": {},
     "output_type": "execute_result"
    }
   ],
   "source": [
    "# coffeePriceTrends[\"MONTH\"].astype('str')[:9]\n",
    "coffeePriceTrends.index.name"
   ]
  },
  {
   "cell_type": "code",
   "execution_count": 137,
   "id": "5b60e3b7-42a3-4440-a43a-65e696e2171a",
   "metadata": {},
   "outputs": [
    {
     "ename": "ValueError",
     "evalue": "time data \"Feb-01\" doesn't match format \"%m/%d/%Y\", at position 103. You might want to try:\n    - passing `format` if your strings have a consistent format;\n    - passing `format='ISO8601'` if your strings are all ISO8601 but not necessarily in exactly the same format;\n    - passing `format='mixed'`, and the format will be inferred for each element individually. You might want to use `dayfirst` alongside this.",
     "output_type": "error",
     "traceback": [
      "\u001b[1;31m---------------------------------------------------------------------------\u001b[0m",
      "\u001b[1;31mValueError\u001b[0m                                Traceback (most recent call last)",
      "Cell \u001b[1;32mIn[137], line 1\u001b[0m\n\u001b[1;32m----> 1\u001b[0m coffeePriceTrends\u001b[38;5;241m.\u001b[39mindex \u001b[38;5;241m=\u001b[39m \u001b[43mpd\u001b[49m\u001b[38;5;241;43m.\u001b[39;49m\u001b[43mto_datetime\u001b[49m\u001b[43m(\u001b[49m\u001b[43mcoffeePriceTrends\u001b[49m\u001b[38;5;241;43m.\u001b[39;49m\u001b[43mindex\u001b[49m\u001b[43m,\u001b[49m\u001b[43m \u001b[49m\u001b[38;5;28;43mformat\u001b[39;49m\u001b[38;5;241;43m=\u001b[39;49m\u001b[38;5;124;43m'\u001b[39;49m\u001b[38;5;124;43m%\u001b[39;49m\u001b[38;5;124;43mm/\u001b[39;49m\u001b[38;5;132;43;01m%d\u001b[39;49;00m\u001b[38;5;124;43m/\u001b[39;49m\u001b[38;5;124;43m%\u001b[39;49m\u001b[38;5;124;43mY\u001b[39;49m\u001b[38;5;124;43m'\u001b[39;49m\u001b[43m)\u001b[49m\u001b[38;5;241m.\u001b[39mstrftime(\u001b[38;5;124m'\u001b[39m\u001b[38;5;124m%\u001b[39m\u001b[38;5;124mY-\u001b[39m\u001b[38;5;124m%\u001b[39m\u001b[38;5;124mm-\u001b[39m\u001b[38;5;132;01m%d\u001b[39;00m\u001b[38;5;124m'\u001b[39m)\n",
      "File \u001b[1;32mD:\\PyData Kampala\\PyDataCurriculum\\PyDataVenv\\Lib\\site-packages\\pandas\\core\\tools\\datetimes.py:1076\u001b[0m, in \u001b[0;36mto_datetime\u001b[1;34m(arg, errors, dayfirst, yearfirst, utc, format, exact, unit, infer_datetime_format, origin, cache)\u001b[0m\n\u001b[0;32m   1074\u001b[0m         result \u001b[38;5;241m=\u001b[39m _convert_and_box_cache(arg, cache_array, name\u001b[38;5;241m=\u001b[39marg\u001b[38;5;241m.\u001b[39mname)\n\u001b[0;32m   1075\u001b[0m     \u001b[38;5;28;01melse\u001b[39;00m:\n\u001b[1;32m-> 1076\u001b[0m         result \u001b[38;5;241m=\u001b[39m \u001b[43mconvert_listlike\u001b[49m\u001b[43m(\u001b[49m\u001b[43marg\u001b[49m\u001b[43m,\u001b[49m\u001b[43m \u001b[49m\u001b[38;5;28;43mformat\u001b[39;49m\u001b[43m,\u001b[49m\u001b[43m \u001b[49m\u001b[43mname\u001b[49m\u001b[38;5;241;43m=\u001b[39;49m\u001b[43marg\u001b[49m\u001b[38;5;241;43m.\u001b[39;49m\u001b[43mname\u001b[49m\u001b[43m)\u001b[49m\n\u001b[0;32m   1077\u001b[0m \u001b[38;5;28;01melif\u001b[39;00m is_list_like(arg):\n\u001b[0;32m   1078\u001b[0m     \u001b[38;5;28;01mtry\u001b[39;00m:\n\u001b[0;32m   1079\u001b[0m         \u001b[38;5;66;03m# error: Argument 1 to \"_maybe_cache\" has incompatible type\u001b[39;00m\n\u001b[0;32m   1080\u001b[0m         \u001b[38;5;66;03m# \"Union[float, str, datetime, List[Any], Tuple[Any, ...], ExtensionArray,\u001b[39;00m\n\u001b[0;32m   1081\u001b[0m         \u001b[38;5;66;03m# ndarray[Any, Any], Series]\"; expected \"Union[List[Any], Tuple[Any, ...],\u001b[39;00m\n\u001b[0;32m   1082\u001b[0m         \u001b[38;5;66;03m# Union[Union[ExtensionArray, ndarray[Any, Any]], Index, Series], Series]\"\u001b[39;00m\n",
      "File \u001b[1;32mD:\\PyData Kampala\\PyDataCurriculum\\PyDataVenv\\Lib\\site-packages\\pandas\\core\\tools\\datetimes.py:433\u001b[0m, in \u001b[0;36m_convert_listlike_datetimes\u001b[1;34m(arg, format, name, utc, unit, errors, dayfirst, yearfirst, exact)\u001b[0m\n\u001b[0;32m    431\u001b[0m \u001b[38;5;66;03m# `format` could be inferred, or user didn't ask for mixed-format parsing.\u001b[39;00m\n\u001b[0;32m    432\u001b[0m \u001b[38;5;28;01mif\u001b[39;00m \u001b[38;5;28mformat\u001b[39m \u001b[38;5;129;01mis\u001b[39;00m \u001b[38;5;129;01mnot\u001b[39;00m \u001b[38;5;28;01mNone\u001b[39;00m \u001b[38;5;129;01mand\u001b[39;00m \u001b[38;5;28mformat\u001b[39m \u001b[38;5;241m!=\u001b[39m \u001b[38;5;124m\"\u001b[39m\u001b[38;5;124mmixed\u001b[39m\u001b[38;5;124m\"\u001b[39m:\n\u001b[1;32m--> 433\u001b[0m     \u001b[38;5;28;01mreturn\u001b[39;00m \u001b[43m_array_strptime_with_fallback\u001b[49m\u001b[43m(\u001b[49m\u001b[43marg\u001b[49m\u001b[43m,\u001b[49m\u001b[43m \u001b[49m\u001b[43mname\u001b[49m\u001b[43m,\u001b[49m\u001b[43m \u001b[49m\u001b[43mutc\u001b[49m\u001b[43m,\u001b[49m\u001b[43m \u001b[49m\u001b[38;5;28;43mformat\u001b[39;49m\u001b[43m,\u001b[49m\u001b[43m \u001b[49m\u001b[43mexact\u001b[49m\u001b[43m,\u001b[49m\u001b[43m \u001b[49m\u001b[43merrors\u001b[49m\u001b[43m)\u001b[49m\n\u001b[0;32m    435\u001b[0m result, tz_parsed \u001b[38;5;241m=\u001b[39m objects_to_datetime64(\n\u001b[0;32m    436\u001b[0m     arg,\n\u001b[0;32m    437\u001b[0m     dayfirst\u001b[38;5;241m=\u001b[39mdayfirst,\n\u001b[1;32m   (...)\u001b[0m\n\u001b[0;32m    441\u001b[0m     allow_object\u001b[38;5;241m=\u001b[39m\u001b[38;5;28;01mTrue\u001b[39;00m,\n\u001b[0;32m    442\u001b[0m )\n\u001b[0;32m    444\u001b[0m \u001b[38;5;28;01mif\u001b[39;00m tz_parsed \u001b[38;5;129;01mis\u001b[39;00m \u001b[38;5;129;01mnot\u001b[39;00m \u001b[38;5;28;01mNone\u001b[39;00m:\n\u001b[0;32m    445\u001b[0m     \u001b[38;5;66;03m# We can take a shortcut since the datetime64 numpy array\u001b[39;00m\n\u001b[0;32m    446\u001b[0m     \u001b[38;5;66;03m# is in UTC\u001b[39;00m\n",
      "File \u001b[1;32mD:\\PyData Kampala\\PyDataCurriculum\\PyDataVenv\\Lib\\site-packages\\pandas\\core\\tools\\datetimes.py:467\u001b[0m, in \u001b[0;36m_array_strptime_with_fallback\u001b[1;34m(arg, name, utc, fmt, exact, errors)\u001b[0m\n\u001b[0;32m    456\u001b[0m \u001b[38;5;28;01mdef\u001b[39;00m \u001b[38;5;21m_array_strptime_with_fallback\u001b[39m(\n\u001b[0;32m    457\u001b[0m     arg,\n\u001b[0;32m    458\u001b[0m     name,\n\u001b[1;32m   (...)\u001b[0m\n\u001b[0;32m    462\u001b[0m     errors: \u001b[38;5;28mstr\u001b[39m,\n\u001b[0;32m    463\u001b[0m ) \u001b[38;5;241m-\u001b[39m\u001b[38;5;241m>\u001b[39m Index:\n\u001b[0;32m    464\u001b[0m \u001b[38;5;250m    \u001b[39m\u001b[38;5;124;03m\"\"\"\u001b[39;00m\n\u001b[0;32m    465\u001b[0m \u001b[38;5;124;03m    Call array_strptime, with fallback behavior depending on 'errors'.\u001b[39;00m\n\u001b[0;32m    466\u001b[0m \u001b[38;5;124;03m    \"\"\"\u001b[39;00m\n\u001b[1;32m--> 467\u001b[0m     result, tz_out \u001b[38;5;241m=\u001b[39m \u001b[43marray_strptime\u001b[49m\u001b[43m(\u001b[49m\u001b[43marg\u001b[49m\u001b[43m,\u001b[49m\u001b[43m \u001b[49m\u001b[43mfmt\u001b[49m\u001b[43m,\u001b[49m\u001b[43m \u001b[49m\u001b[43mexact\u001b[49m\u001b[38;5;241;43m=\u001b[39;49m\u001b[43mexact\u001b[49m\u001b[43m,\u001b[49m\u001b[43m \u001b[49m\u001b[43merrors\u001b[49m\u001b[38;5;241;43m=\u001b[39;49m\u001b[43merrors\u001b[49m\u001b[43m,\u001b[49m\u001b[43m \u001b[49m\u001b[43mutc\u001b[49m\u001b[38;5;241;43m=\u001b[39;49m\u001b[43mutc\u001b[49m\u001b[43m)\u001b[49m\n\u001b[0;32m    468\u001b[0m     \u001b[38;5;28;01mif\u001b[39;00m tz_out \u001b[38;5;129;01mis\u001b[39;00m \u001b[38;5;129;01mnot\u001b[39;00m \u001b[38;5;28;01mNone\u001b[39;00m:\n\u001b[0;32m    469\u001b[0m         unit \u001b[38;5;241m=\u001b[39m np\u001b[38;5;241m.\u001b[39mdatetime_data(result\u001b[38;5;241m.\u001b[39mdtype)[\u001b[38;5;241m0\u001b[39m]\n",
      "File \u001b[1;32mstrptime.pyx:501\u001b[0m, in \u001b[0;36mpandas._libs.tslibs.strptime.array_strptime\u001b[1;34m()\u001b[0m\n",
      "File \u001b[1;32mstrptime.pyx:451\u001b[0m, in \u001b[0;36mpandas._libs.tslibs.strptime.array_strptime\u001b[1;34m()\u001b[0m\n",
      "File \u001b[1;32mstrptime.pyx:583\u001b[0m, in \u001b[0;36mpandas._libs.tslibs.strptime._parse_with_format\u001b[1;34m()\u001b[0m\n",
      "\u001b[1;31mValueError\u001b[0m: time data \"Feb-01\" doesn't match format \"%m/%d/%Y\", at position 103. You might want to try:\n    - passing `format` if your strings have a consistent format;\n    - passing `format='ISO8601'` if your strings are all ISO8601 but not necessarily in exactly the same format;\n    - passing `format='mixed'`, and the format will be inferred for each element individually. You might want to use `dayfirst` alongside this."
     ]
    }
   ],
   "source": [
    "coffeePriceTrends.index = pd.to_datetime(coffeePriceTrends.index, format='%m/%d/%Y').strftime('%Y-%m-%d')"
   ]
  },
  {
   "cell_type": "code",
   "execution_count": 145,
   "id": "d79c7e8f-2040-49c8-8b34-c64cb9edf115",
   "metadata": {},
   "outputs": [],
   "source": [
    "# coffeePriceTrends.index = pd.to_datetime(coffeePriceTrends.index, format = '%Y-%m-%d %H:%M:%S').strftime('%Y-%m-%d')"
   ]
  }
 ],
 "metadata": {
  "kernelspec": {
   "display_name": "Python 3 (ipykernel)",
   "language": "python",
   "name": "python3"
  },
  "language_info": {
   "codemirror_mode": {
    "name": "ipython",
    "version": 3
   },
   "file_extension": ".py",
   "mimetype": "text/x-python",
   "name": "python",
   "nbconvert_exporter": "python",
   "pygments_lexer": "ipython3",
   "version": "3.12.3"
  }
 },
 "nbformat": 4,
 "nbformat_minor": 5
}
